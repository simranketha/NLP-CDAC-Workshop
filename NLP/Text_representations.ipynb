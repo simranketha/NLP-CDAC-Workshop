{
  "nbformat": 4,
  "nbformat_minor": 0,
  "metadata": {
    "colab": {
      "name": "Text representations.ipynb",
      "version": "0.3.2",
      "provenance": [],
      "collapsed_sections": [
        "wbXMz2crpv7m",
        "dYdXcpa7Yf7V",
        "-hpkRE0frtKw",
        "52-rMNKCrrfX",
        "mJC_DOnEuqhE",
        "7s9zLvtD0lVl",
        "I3wh1XzW0HGi",
        "OIgQ2cNDsXux",
        "1H_00C7F64yE",
        "NdjQ0RsuKrLa",
        "sbwVOX9VSTel",
        "jSjiROhrdRnK",
        "ucnA7aiA49-G",
        "CSXYZ4MmOs2H"
      ]
    },
    "kernelspec": {
      "name": "python3",
      "display_name": "Python 3"
    }
  },
  "cells": [
    {
      "cell_type": "markdown",
      "metadata": {
        "id": "wbXMz2crpv7m",
        "colab_type": "text"
      },
      "source": [
        "# One hot encoding\n"
      ]
    },
    {
      "cell_type": "code",
      "metadata": {
        "id": "dlFdPiZ2qAVV",
        "colab_type": "code",
        "colab": {}
      },
      "source": [
        "from sklearn.preprocessing import OneHotEncoder\n"
      ],
      "execution_count": 0,
      "outputs": []
    },
    {
      "cell_type": "code",
      "metadata": {
        "id": "Cfy-RT7JqBZ7",
        "colab_type": "code",
        "colab": {}
      },
      "source": [
        "data=[['b'],['a'],['c']]\n",
        "#data should be a list of a list"
      ],
      "execution_count": 0,
      "outputs": []
    },
    {
      "cell_type": "code",
      "metadata": {
        "id": "9-D2wNJ8qBfR",
        "colab_type": "code",
        "outputId": "c3cc8faa-2dfc-4631-d975-209b477b0ae4",
        "colab": {
          "base_uri": "https://localhost:8080/",
          "height": 72
        }
      },
      "source": [
        "enc.fit(data)\n",
        "x=enc.transform(data).toarray()\n",
        "print(x)"
      ],
      "execution_count": 0,
      "outputs": [
        {
          "output_type": "stream",
          "text": [
            "[[0. 1. 0.]\n",
            " [1. 0. 0.]\n",
            " [0. 0. 1.]]\n"
          ],
          "name": "stdout"
        }
      ]
    },
    {
      "cell_type": "markdown",
      "metadata": {
        "id": "dYdXcpa7Yf7V",
        "colab_type": "text"
      },
      "source": [
        "# Bag of words"
      ]
    },
    {
      "cell_type": "code",
      "metadata": {
        "id": "kjU10EHbYaXo",
        "colab_type": "code",
        "colab": {}
      },
      "source": [
        "corpus = ['This is the first document.','This document is the second document.','And this is the third one.', 'Is this the first document?']"
      ],
      "execution_count": 0,
      "outputs": []
    },
    {
      "cell_type": "code",
      "metadata": {
        "id": "YZv3qhhCYj4J",
        "colab_type": "code",
        "outputId": "ea8ab5d4-1cce-4b5d-d416-6da5b0c9f049",
        "colab": {
          "base_uri": "https://localhost:8080/",
          "height": 35
        }
      },
      "source": [
        "print(corpus)"
      ],
      "execution_count": 0,
      "outputs": [
        {
          "output_type": "stream",
          "text": [
            "['This is the first document.', 'This document is the second document.', 'And this is the third one.', 'Is this the first document?']\n"
          ],
          "name": "stdout"
        }
      ]
    },
    {
      "cell_type": "code",
      "metadata": {
        "id": "DfR1vlw3YyMD",
        "colab_type": "code",
        "colab": {}
      },
      "source": [
        "from sklearn.feature_extraction.text import CountVectorizer\n"
      ],
      "execution_count": 0,
      "outputs": []
    },
    {
      "cell_type": "code",
      "metadata": {
        "id": "hihH912gYo3w",
        "colab_type": "code",
        "outputId": "46893f7b-9f42-4e96-ff16-4b04ad94a2c6",
        "colab": {
          "base_uri": "https://localhost:8080/",
          "height": 90
        }
      },
      "source": [
        "vectorizer = CountVectorizer()\n",
        "X = vectorizer.fit_transform(corpus).toarray()\n",
        "print(X)"
      ],
      "execution_count": 0,
      "outputs": [
        {
          "output_type": "stream",
          "text": [
            "[[0 1 1 1 0 0 1 0 1]\n",
            " [0 2 0 1 0 1 1 0 1]\n",
            " [1 0 0 1 1 0 1 1 1]\n",
            " [0 1 1 1 0 0 1 0 1]]\n"
          ],
          "name": "stdout"
        }
      ]
    },
    {
      "cell_type": "code",
      "metadata": {
        "id": "JQv0m3ftY1fL",
        "colab_type": "code",
        "outputId": "793d1f88-eb54-4b07-d9fd-a7a460ea7b5b",
        "colab": {
          "base_uri": "https://localhost:8080/",
          "height": 54
        }
      },
      "source": [
        "vocabulary = vectorizer.get_feature_names()\n",
        "print(vocabulary)\n",
        "print(len(vocabulary))"
      ],
      "execution_count": 0,
      "outputs": [
        {
          "output_type": "stream",
          "text": [
            "['and', 'document', 'first', 'is', 'one', 'second', 'the', 'third', 'this']\n",
            "9\n"
          ],
          "name": "stdout"
        }
      ]
    },
    {
      "cell_type": "markdown",
      "metadata": {
        "id": "-hpkRE0frtKw",
        "colab_type": "text"
      },
      "source": [
        "## Difference between fit and fit_transform"
      ]
    },
    {
      "cell_type": "code",
      "metadata": {
        "id": "GQtZgdf1blXZ",
        "colab_type": "code",
        "outputId": "67a06c37-1a03-4319-9f4d-27eb57c66134",
        "colab": {
          "base_uri": "https://localhost:8080/",
          "height": 108
        }
      },
      "source": [
        "new_vec = vectorizer.transform(['This is the last document']).toarray()\n",
        "print(new_vec)\n",
        "print(\"\\n\")\n",
        "new_vec = vectorizer.fit_transform(['This is the last document']).toarray()\n",
        "print(new_vec[0])\n",
        "print(len(new_vec[0]))"
      ],
      "execution_count": 0,
      "outputs": [
        {
          "output_type": "stream",
          "text": [
            "[[0 1 0 1 0 0 1 0 1]]\n",
            "\n",
            "\n",
            "[1 1 1 1 1]\n",
            "5\n"
          ],
          "name": "stdout"
        }
      ]
    },
    {
      "cell_type": "markdown",
      "metadata": {
        "id": "52-rMNKCrrfX",
        "colab_type": "text"
      },
      "source": [
        "## Character - level"
      ]
    },
    {
      "cell_type": "code",
      "metadata": {
        "id": "ti2dZ5S_q_II",
        "colab_type": "code",
        "outputId": "1bccad32-c4f6-47b2-e737-093ef3d8614c",
        "colab": {
          "base_uri": "https://localhost:8080/",
          "height": 90
        }
      },
      "source": [
        "vectorizer = CountVectorizer(analyzer = 'char')\n",
        "X = vectorizer.fit_transform(corpus).toarray()\n",
        "print(X)"
      ],
      "execution_count": 0,
      "outputs": [
        {
          "output_type": "stream",
          "text": [
            "[[4 1 0 0 1 1 2 1 2 3 1 1 1 1 3 4 1]\n",
            " [5 1 0 0 3 3 4 0 2 2 2 3 3 0 3 4 2]\n",
            " [5 1 0 1 0 2 2 0 3 3 0 2 1 1 2 3 0]\n",
            " [4 0 1 0 1 1 2 1 2 3 1 1 1 1 3 4 1]]\n"
          ],
          "name": "stdout"
        }
      ]
    },
    {
      "cell_type": "code",
      "metadata": {
        "id": "NNBatNkxr-KT",
        "colab_type": "code",
        "outputId": "1e831f46-8712-45db-a956-4f099275e0ba",
        "colab": {
          "base_uri": "https://localhost:8080/",
          "height": 54
        }
      },
      "source": [
        "vocabulary = vectorizer.get_feature_names()\n",
        "print(vocabulary)\n",
        "print(len(vocabulary))"
      ],
      "execution_count": 0,
      "outputs": [
        {
          "output_type": "stream",
          "text": [
            "[' ', '.', '?', 'a', 'c', 'd', 'e', 'f', 'h', 'i', 'm', 'n', 'o', 'r', 's', 't', 'u']\n",
            "17\n"
          ],
          "name": "stdout"
        }
      ]
    },
    {
      "cell_type": "markdown",
      "metadata": {
        "id": "mJC_DOnEuqhE",
        "colab_type": "text"
      },
      "source": [
        "# TDM "
      ]
    },
    {
      "cell_type": "code",
      "metadata": {
        "id": "vI-lbmaCupbW",
        "colab_type": "code",
        "outputId": "7f328b83-61da-4748-f1dc-04713e506312",
        "colab": {
          "base_uri": "https://localhost:8080/",
          "height": 90
        }
      },
      "source": [
        "vectorizer = CountVectorizer(ngram_range = (1,1))\n",
        "X = vectorizer.fit_transform(corpus).toarray()\n",
        "print(X)"
      ],
      "execution_count": 0,
      "outputs": [
        {
          "output_type": "stream",
          "text": [
            "[[0 1 1 1 0 0 1 0 1]\n",
            " [0 2 0 1 0 1 1 0 1]\n",
            " [1 0 0 1 1 0 1 1 1]\n",
            " [0 1 1 1 0 0 1 0 1]]\n"
          ],
          "name": "stdout"
        }
      ]
    },
    {
      "cell_type": "code",
      "metadata": {
        "id": "PeonBuMj0rJt",
        "colab_type": "code",
        "outputId": "e76bc7f2-ba1b-4e06-deff-39ef411a2490",
        "colab": {
          "base_uri": "https://localhost:8080/",
          "height": 54
        }
      },
      "source": [
        "vocabulary = vectorizer.get_feature_names()\n",
        "print(vocabulary)\n",
        "print(len(vocabulary))"
      ],
      "execution_count": 0,
      "outputs": [
        {
          "output_type": "stream",
          "text": [
            "['and', 'document', 'first', 'is', 'one', 'second', 'the', 'third', 'this']\n",
            "9\n"
          ],
          "name": "stdout"
        }
      ]
    },
    {
      "cell_type": "markdown",
      "metadata": {
        "id": "OIgQ2cNDsXux",
        "colab_type": "text"
      },
      "source": [
        "# TF-IDF"
      ]
    },
    {
      "cell_type": "code",
      "metadata": {
        "id": "8-BkO7QksFDu",
        "colab_type": "code",
        "colab": {}
      },
      "source": [
        "from sklearn.feature_extraction.text import TfidfVectorizer"
      ],
      "execution_count": 0,
      "outputs": []
    },
    {
      "cell_type": "code",
      "metadata": {
        "id": "1S0hTC8csDFR",
        "colab_type": "code",
        "outputId": "f700cf17-d0eb-4bb7-cf42-1a268cefdf41",
        "colab": {
          "base_uri": "https://localhost:8080/",
          "height": 163
        }
      },
      "source": [
        "#corpus1=['This is a sample. ','This is another sample']\n",
        "vectorizer = TfidfVectorizer()\n",
        "X = vectorizer.fit_transform(corpus).toarray()\n",
        "print(X)"
      ],
      "execution_count": 0,
      "outputs": [
        {
          "output_type": "stream",
          "text": [
            "[[0.         0.46979139 0.58028582 0.38408524 0.         0.\n",
            "  0.38408524 0.         0.38408524]\n",
            " [0.         0.6876236  0.         0.28108867 0.         0.53864762\n",
            "  0.28108867 0.         0.28108867]\n",
            " [0.51184851 0.         0.         0.26710379 0.51184851 0.\n",
            "  0.26710379 0.51184851 0.26710379]\n",
            " [0.         0.46979139 0.58028582 0.38408524 0.         0.\n",
            "  0.38408524 0.         0.38408524]]\n"
          ],
          "name": "stdout"
        }
      ]
    },
    {
      "cell_type": "code",
      "metadata": {
        "id": "lwJnub3VsmlS",
        "colab_type": "code",
        "outputId": "6b8a4f0b-c400-476e-9eff-036103eb2bb9",
        "colab": {
          "base_uri": "https://localhost:8080/",
          "height": 35
        }
      },
      "source": [
        "print(vectorizer.get_feature_names())"
      ],
      "execution_count": 0,
      "outputs": [
        {
          "output_type": "stream",
          "text": [
            "['and', 'document', 'first', 'is', 'one', 'second', 'the', 'third', 'this']\n"
          ],
          "name": "stdout"
        }
      ]
    },
    {
      "cell_type": "markdown",
      "metadata": {
        "id": "1H_00C7F64yE",
        "colab_type": "text"
      },
      "source": [
        "# TDM+SVD"
      ]
    },
    {
      "cell_type": "code",
      "metadata": {
        "id": "EKbjx7Op684u",
        "colab_type": "code",
        "colab": {}
      },
      "source": [
        "from scipy.linalg import svd\n",
        "\n",
        "from sklearn.feature_extraction.text import CountVectorizer"
      ],
      "execution_count": 0,
      "outputs": []
    },
    {
      "cell_type": "code",
      "metadata": {
        "id": "WkhdWS1IvFWa",
        "colab_type": "code",
        "colab": {}
      },
      "source": [
        "corpus = ['This is the first document.','This document is the second document.','And this is the third one.', 'Is this the first document?']"
      ],
      "execution_count": 0,
      "outputs": []
    },
    {
      "cell_type": "code",
      "metadata": {
        "id": "nDUSQ0SBu6YJ",
        "colab_type": "code",
        "outputId": "fee63a99-dc03-4bb3-f234-294b3397ea1e",
        "colab": {
          "base_uri": "https://localhost:8080/",
          "height": 90
        }
      },
      "source": [
        "vectorizer = CountVectorizer(ngram_range = (1,1))\n",
        "X = vectorizer.fit_transform(corpus).toarray()\n",
        "print(X)"
      ],
      "execution_count": 0,
      "outputs": [
        {
          "output_type": "stream",
          "text": [
            "[[0 1 1 1 0 0 1 0 1]\n",
            " [0 2 0 1 0 1 1 0 1]\n",
            " [1 0 0 1 1 0 1 1 1]\n",
            " [0 1 1 1 0 0 1 0 1]]\n"
          ],
          "name": "stdout"
        }
      ]
    },
    {
      "cell_type": "code",
      "metadata": {
        "id": "S3mBrtcxu6eR",
        "colab_type": "code",
        "colab": {}
      },
      "source": [
        "U, s, VT = svd(X)"
      ],
      "execution_count": 0,
      "outputs": []
    },
    {
      "cell_type": "code",
      "metadata": {
        "id": "YYKBdkeCvbs0",
        "colab_type": "code",
        "outputId": "083ec461-308c-46fe-8101-0e2f5a30cf09",
        "colab": {
          "base_uri": "https://localhost:8080/",
          "height": 435
        }
      },
      "source": [
        "print(U)\n",
        "print(s)\n",
        "print(VT)"
      ],
      "execution_count": 0,
      "outputs": [
        {
          "output_type": "stream",
          "text": [
            "[[-4.97749218e-01  9.95291395e-02 -4.92280069e-01 -7.07106781e-01]\n",
            " [-5.95251327e-01  4.17856560e-01  6.86346671e-01 -5.55111512e-17]\n",
            " [-3.87514244e-01 -8.97543200e-01  2.10354260e-01 -2.77555756e-17]\n",
            " [-4.97749218e-01  9.95291395e-02 -4.92280069e-01  7.07106781e-01]]\n",
            "[4.27960622 1.98443654 1.32173457 0.        ]\n",
            "[[-0.09054904 -0.51079491 -0.23261449 -0.46225375 -0.09054904 -0.13909021\n",
            "  -0.46225375 -0.09054904 -0.46225375]\n",
            " [-0.45229121  0.52144343  0.10030972 -0.14141463 -0.45229121  0.21056685\n",
            "  -0.14141463 -0.45229121 -0.14141463]\n",
            " [ 0.15915015  0.29365443 -0.74490004 -0.06647266  0.15915015  0.51927723\n",
            "  -0.06647266  0.15915015 -0.06647266]\n",
            " [-0.43230491 -0.20809863 -0.21096578  0.8063548   0.00662025 -0.00286714\n",
            "  -0.1936452   0.00662025 -0.1936452 ]\n",
            " [-0.3157711   0.17153177  0.23225887 -0.13459688  0.85978087  0.0607271\n",
            "  -0.13459688 -0.14021913 -0.13459688]\n",
            " [ 0.04265433 -0.4383959   0.37355634  0.02161318 -0.05374694  0.81195224\n",
            "   0.02161318 -0.05374694  0.02161318]\n",
            " [-0.43230491 -0.20809863 -0.21096578 -0.1936452   0.00662025 -0.00286714\n",
            "   0.8063548   0.00662025 -0.1936452 ]\n",
            " [-0.3157711   0.17153177  0.23225887 -0.13459688 -0.14021913  0.0607271\n",
            "  -0.13459688  0.85978087 -0.13459688]\n",
            " [-0.43230491 -0.20809863 -0.21096578 -0.1936452   0.00662025 -0.00286714\n",
            "  -0.1936452   0.00662025  0.8063548 ]]\n"
          ],
          "name": "stdout"
        }
      ]
    },
    {
      "cell_type": "markdown",
      "metadata": {
        "id": "NdjQ0RsuKrLa",
        "colab_type": "text"
      },
      "source": [
        "# TDM+Non-negative matrix factorization (NMF)"
      ]
    },
    {
      "cell_type": "code",
      "metadata": {
        "id": "WDUwmcEf8KG9",
        "colab_type": "code",
        "colab": {}
      },
      "source": [
        "import numpy as np\n",
        "from sklearn.decomposition import NMF\n",
        "from sklearn.feature_extraction.text import CountVectorizer"
      ],
      "execution_count": 0,
      "outputs": []
    },
    {
      "cell_type": "code",
      "metadata": {
        "id": "8TFdQ7iXRFDr",
        "colab_type": "code",
        "colab": {}
      },
      "source": [
        "corpus = ['This is the first document.','This document is the second document.','And this is the third one.', 'Is this the first document?']"
      ],
      "execution_count": 0,
      "outputs": []
    },
    {
      "cell_type": "code",
      "metadata": {
        "id": "fhqZihtDRHcV",
        "colab_type": "code",
        "outputId": "e407209b-782e-4694-f533-6678bd70baee",
        "colab": {
          "base_uri": "https://localhost:8080/",
          "height": 90
        }
      },
      "source": [
        "vectorizer = CountVectorizer(ngram_range = (1,1))\n",
        "X = vectorizer.fit_transform(corpus).toarray()\n",
        "print(X)"
      ],
      "execution_count": 0,
      "outputs": [
        {
          "output_type": "stream",
          "text": [
            "[[0 1 1 1 0 0 1 0 1]\n",
            " [0 2 0 1 0 1 1 0 1]\n",
            " [1 0 0 1 1 0 1 1 1]\n",
            " [0 1 1 1 0 0 1 0 1]]\n"
          ],
          "name": "stdout"
        }
      ]
    },
    {
      "cell_type": "code",
      "metadata": {
        "id": "yKp0J2wbP5s1",
        "colab_type": "code",
        "colab": {}
      },
      "source": [
        "model = NMF(n_components=2, init='random', random_state=0)"
      ],
      "execution_count": 0,
      "outputs": []
    },
    {
      "cell_type": "code",
      "metadata": {
        "id": "onAAZaJbP5vH",
        "colab_type": "code",
        "colab": {}
      },
      "source": [
        "W = model.fit_transform(X)\n",
        "H = model.components_"
      ],
      "execution_count": 0,
      "outputs": []
    },
    {
      "cell_type": "code",
      "metadata": {
        "id": "xt8wMfVQP5xL",
        "colab_type": "code",
        "outputId": "e813d871-dcd5-40e7-bc64-96e74912c275",
        "colab": {
          "base_uri": "https://localhost:8080/",
          "height": 90
        }
      },
      "source": [
        "print(W)"
      ],
      "execution_count": 0,
      "outputs": [
        {
          "output_type": "stream",
          "text": [
            "[[0.5107616  0.12369935]\n",
            " [0.67199958 0.        ]\n",
            " [0.         1.43183731]\n",
            " [0.5107616  0.12369935]]\n"
          ],
          "name": "stdout"
        }
      ]
    },
    {
      "cell_type": "code",
      "metadata": {
        "id": "wmJisXGSSLQ5",
        "colab_type": "code",
        "outputId": "83cd4a6a-4790-4426-f39a-4595a5fe0a64",
        "colab": {
          "base_uri": "https://localhost:8080/",
          "height": 90
        }
      },
      "source": [
        "print(H)"
      ],
      "execution_count": 0,
      "outputs": [
        {
          "output_type": "stream",
          "text": [
            "[[0.         2.43031889 1.04228305 1.6481337  0.         0.69040703\n",
            "  1.6481337  0.         1.6481337 ]\n",
            " [0.68813151 0.         0.05560176 0.7069408  0.68813151 0.\n",
            "  0.7069408  0.68813151 0.7069408 ]]\n"
          ],
          "name": "stdout"
        }
      ]
    },
    {
      "cell_type": "markdown",
      "metadata": {
        "colab_type": "text",
        "id": "sbwVOX9VSTel"
      },
      "source": [
        "# TF-IDF+SVD"
      ]
    },
    {
      "cell_type": "code",
      "metadata": {
        "colab_type": "code",
        "id": "B_EXrwmoSTeo",
        "colab": {}
      },
      "source": [
        "from scipy.linalg import svd\n",
        "from sklearn.feature_extraction.text import TfidfVectorizer"
      ],
      "execution_count": 0,
      "outputs": []
    },
    {
      "cell_type": "code",
      "metadata": {
        "colab_type": "code",
        "id": "PMDUbns-STew",
        "colab": {}
      },
      "source": [
        "corpus = ['This is the first document.','This document is the second document.','And this is the third one.', 'Is this the first document?']"
      ],
      "execution_count": 0,
      "outputs": []
    },
    {
      "cell_type": "code",
      "metadata": {
        "colab_type": "code",
        "outputId": "57b96f03-89f8-484a-e895-0bd7a69e0175",
        "id": "z27KPXVQSTe1",
        "colab": {
          "base_uri": "https://localhost:8080/",
          "height": 163
        }
      },
      "source": [
        "vectorizer = TfidfVectorizer()\n",
        "X = vectorizer.fit_transform(corpus).toarray()\n",
        "print(X)"
      ],
      "execution_count": 0,
      "outputs": [
        {
          "output_type": "stream",
          "text": [
            "[[0.         0.46979139 0.58028582 0.38408524 0.         0.\n",
            "  0.38408524 0.         0.38408524]\n",
            " [0.         0.6876236  0.         0.28108867 0.         0.53864762\n",
            "  0.28108867 0.         0.28108867]\n",
            " [0.51184851 0.         0.         0.26710379 0.51184851 0.\n",
            "  0.26710379 0.51184851 0.26710379]\n",
            " [0.         0.46979139 0.58028582 0.38408524 0.         0.\n",
            "  0.38408524 0.         0.38408524]]\n"
          ],
          "name": "stdout"
        }
      ]
    },
    {
      "cell_type": "code",
      "metadata": {
        "colab_type": "code",
        "id": "J3d5Ija3STe6",
        "colab": {}
      },
      "source": [
        "U, s, VT = svd(X)"
      ],
      "execution_count": 0,
      "outputs": []
    },
    {
      "cell_type": "code",
      "metadata": {
        "colab_type": "code",
        "outputId": "e4dda94d-0e4a-4b6f-a592-d1dd1f9290f7",
        "id": "7O5JIAcMSTe-",
        "colab": {
          "base_uri": "https://localhost:8080/",
          "height": 435
        }
      },
      "source": [
        "print(U)\n",
        "print(s)\n",
        "print(VT)"
      ],
      "execution_count": 0,
      "outputs": [
        {
          "output_type": "stream",
          "text": [
            "[[-5.85321573e-01  1.45097929e-01 -3.69249573e-01 -7.07106781e-01]\n",
            " [-4.86814567e-01  2.00045615e-01  8.50290144e-01  5.55111512e-17]\n",
            " [-2.78942449e-01 -9.58057897e-01  6.56976138e-02 -6.93889390e-17]\n",
            " [-5.85321573e-01  1.45097929e-01 -3.69249573e-01  7.07106781e-01]]\n",
            "[1.63851261e+00 9.27224412e-01 6.74930598e-01 1.54149002e-16]\n",
            "[[-0.08713773 -0.5399429  -0.41458797 -0.4033972  -0.08713773 -0.16003631\n",
            "  -0.4033972  -0.08713773 -0.4033972 ]\n",
            " [-0.52886928  0.29538437  0.18161358 -0.09513381 -0.52886928  0.11621145\n",
            "  -0.09513381 -0.52886928 -0.09513381]\n",
            " [ 0.04982324  0.35224219 -0.63494022 -0.04013985  0.04982324  0.67859831\n",
            "  -0.04013985  0.04982324 -0.04013985]\n",
            " [ 0.83081502  0.14524846  0.19854795 -0.15921035 -0.29078366  0.06382728\n",
            "  -0.15921035 -0.29078366 -0.15921035]\n",
            " [-0.0931515   0.20959157  0.31005025 -0.42922999  0.73568913  0.1106676\n",
            "  -0.14778122 -0.26431087 -0.14778122]\n",
            " [-0.02742269 -0.60413046  0.38212981  0.11772467 -0.02845521  0.68688418\n",
            "   0.02194105 -0.02845521  0.02194105]\n",
            " [ 0.03051181 -0.10772001 -0.08449093 -0.45767087 -0.08294086  0.00214267\n",
            "   0.85853949 -0.08294086 -0.14146051]\n",
            " [-0.0931515   0.20959157  0.31005025 -0.42922999 -0.26431087  0.1106676\n",
            "  -0.14778122  0.73568913 -0.14778122]\n",
            " [ 0.03051181 -0.10772001 -0.08449093 -0.45767087 -0.08294086  0.00214267\n",
            "  -0.14146051 -0.08294086  0.85853949]]\n"
          ],
          "name": "stdout"
        }
      ]
    },
    {
      "cell_type": "markdown",
      "metadata": {
        "colab_type": "text",
        "id": "jSjiROhrdRnK"
      },
      "source": [
        "# TF-IDF+NMF"
      ]
    },
    {
      "cell_type": "code",
      "metadata": {
        "colab_type": "code",
        "id": "-8IyAq--dRnT",
        "colab": {}
      },
      "source": [
        "import numpy as np\n",
        "from sklearn.decomposition import NMF\n",
        "from sklearn.feature_extraction.text import TfidfVectorizer"
      ],
      "execution_count": 0,
      "outputs": []
    },
    {
      "cell_type": "code",
      "metadata": {
        "colab_type": "code",
        "id": "zxNivlabdRnZ",
        "colab": {}
      },
      "source": [
        "corpus = ['This is the first document.','This document is the second document.','And this is the third one.', 'Is this the first document?']"
      ],
      "execution_count": 0,
      "outputs": []
    },
    {
      "cell_type": "code",
      "metadata": {
        "colab_type": "code",
        "outputId": "44d3ea4a-15f7-4c29-d6ea-5a9e79977de0",
        "id": "iv0Nqv3QdRnc",
        "colab": {
          "base_uri": "https://localhost:8080/",
          "height": 163
        }
      },
      "source": [
        "vectorizer = TfidfVectorizer()\n",
        "X = vectorizer.fit_transform(corpus).toarray()\n",
        "print(X)"
      ],
      "execution_count": 0,
      "outputs": [
        {
          "output_type": "stream",
          "text": [
            "[[0.         0.46979139 0.58028582 0.38408524 0.         0.\n",
            "  0.38408524 0.         0.38408524]\n",
            " [0.         0.6876236  0.         0.28108867 0.         0.53864762\n",
            "  0.28108867 0.         0.28108867]\n",
            " [0.51184851 0.         0.         0.26710379 0.51184851 0.\n",
            "  0.26710379 0.51184851 0.26710379]\n",
            " [0.         0.46979139 0.58028582 0.38408524 0.         0.\n",
            "  0.38408524 0.         0.38408524]]\n"
          ],
          "name": "stdout"
        }
      ]
    },
    {
      "cell_type": "code",
      "metadata": {
        "colab_type": "code",
        "id": "t1CMlSQqdRno",
        "colab": {}
      },
      "source": [
        "model = NMF(n_components=2, init='random', random_state=0)"
      ],
      "execution_count": 0,
      "outputs": []
    },
    {
      "cell_type": "code",
      "metadata": {
        "colab_type": "code",
        "id": "srxze5xEdRns",
        "colab": {}
      },
      "source": [
        "W = model.fit_transform(X)\n",
        "H = model.components_"
      ],
      "execution_count": 0,
      "outputs": []
    },
    {
      "cell_type": "code",
      "metadata": {
        "colab_type": "code",
        "outputId": "7fa842b2-a4e6-4d48-dd91-d7743a4d71ce",
        "id": "K12MZjTWdRnv",
        "colab": {
          "base_uri": "https://localhost:8080/",
          "height": 90
        }
      },
      "source": [
        "print(W)"
      ],
      "execution_count": 0,
      "outputs": [
        {
          "output_type": "stream",
          "text": [
            "[[0.00796847 0.80665869]\n",
            " [0.         0.68047828]\n",
            " [0.59254741 0.        ]\n",
            " [0.00796847 0.80665869]]\n"
          ],
          "name": "stdout"
        }
      ]
    },
    {
      "cell_type": "code",
      "metadata": {
        "colab_type": "code",
        "outputId": "66063af2-1e34-4690-f228-441973f6aefc",
        "id": "guoPX2LpdRny",
        "colab": {
          "base_uri": "https://localhost:8080/",
          "height": 90
        }
      },
      "source": [
        "print(H)"
      ],
      "execution_count": 0,
      "outputs": [
        {
          "output_type": "stream",
          "text": [
            "[[0.86349791 0.         0.00691154 0.45133488 0.86349791 0.\n",
            "  0.45133488 0.86349791 0.45133488]\n",
            " [0.         0.69474199 0.53053238 0.45630378 0.         0.20773533\n",
            "  0.45630378 0.         0.45630378]]\n"
          ],
          "name": "stdout"
        }
      ]
    },
    {
      "cell_type": "markdown",
      "metadata": {
        "id": "7s9zLvtD0lVl",
        "colab_type": "text"
      },
      "source": [
        " # N-gram"
      ]
    },
    {
      "cell_type": "code",
      "metadata": {
        "id": "0oATt-Nt0tuS",
        "colab_type": "code",
        "outputId": "76b0f847-4a97-4573-daa5-f642681c13fb",
        "colab": {
          "base_uri": "https://localhost:8080/",
          "height": 90
        }
      },
      "source": [
        "vectorizer = CountVectorizer(ngram_range = (1,2))\n",
        "X = vectorizer.fit_transform(corpus).toarray()\n",
        "print(X)"
      ],
      "execution_count": 0,
      "outputs": [
        {
          "output_type": "stream",
          "text": [
            "[[0 0 1 0 1 1 1 1 0 0 0 0 1 1 0 0 0 0 1 0 1 0]\n",
            " [0 0 2 1 0 0 1 1 0 0 1 1 1 0 1 0 0 0 1 1 0 0]\n",
            " [1 1 0 0 0 0 1 1 0 1 0 0 1 0 0 1 1 1 1 0 1 0]\n",
            " [0 0 1 0 1 1 1 0 1 0 0 0 1 1 0 0 0 0 1 0 0 1]]\n"
          ],
          "name": "stdout"
        }
      ]
    },
    {
      "cell_type": "code",
      "metadata": {
        "id": "t_lsahhtzjsG",
        "colab_type": "code",
        "outputId": "75f05a90-c819-4646-ab6d-484e6746ab59",
        "colab": {
          "base_uri": "https://localhost:8080/",
          "height": 74
        }
      },
      "source": [
        "vocabulary = vectorizer.get_feature_names()\n",
        "print(vocabulary)\n",
        "print(len(vocabulary))"
      ],
      "execution_count": 0,
      "outputs": [
        {
          "output_type": "stream",
          "text": [
            "['and', 'and this', 'document', 'document is', 'first', 'first document', 'is', 'is the', 'is this', 'one', 'second', 'second document', 'the', 'the first', 'the second', 'the third', 'third', 'third one', 'this', 'this document', 'this is', 'this the']\n",
            "22\n"
          ],
          "name": "stdout"
        }
      ]
    },
    {
      "cell_type": "markdown",
      "metadata": {
        "id": "I3wh1XzW0HGi",
        "colab_type": "text"
      },
      "source": [
        "## char-level"
      ]
    },
    {
      "cell_type": "code",
      "metadata": {
        "id": "MtaKT0PG0MKU",
        "colab_type": "code",
        "outputId": "2d296cb3-9275-4b63-b282-cfc040ae3367",
        "colab": {
          "base_uri": "https://localhost:8080/",
          "height": 163
        }
      },
      "source": [
        "vectorizer = CountVectorizer(ngram_range = (1,2), analyzer = 'char')\n",
        "X = vectorizer.fit_transform(corpus).toarray()\n",
        "print(X)"
      ],
      "execution_count": 0,
      "outputs": [
        {
          "output_type": "stream",
          "text": [
            "[[4 1 1 1 0 0 1 1 0 0 0 1 0 1 1 0 1 2 1 0 0 1 1 1 2 1 1 3 1 2 1 1 1 0 0 1\n",
            "  1 1 0 1 0 1 3 2 0 1 4 1 1 0 2 1 1]\n",
            " [5 2 0 1 0 1 1 1 0 0 0 3 1 2 3 1 2 4 1 0 1 2 0 0 2 1 1 2 0 2 2 2 3 1 0 2\n",
            "  3 2 1 0 0 0 3 2 1 0 4 1 1 0 2 2 2]\n",
            " [5 0 0 1 1 0 3 1 0 1 1 0 0 0 2 2 0 2 1 1 0 0 0 0 3 1 2 3 1 2 0 0 2 1 1 0\n",
            "  1 0 1 1 1 0 2 2 0 0 3 0 0 0 3 0 0]\n",
            " [4 1 1 0 0 0 2 0 1 0 0 1 0 1 1 0 1 2 1 0 0 1 1 1 2 1 1 3 1 2 1 1 1 0 0 1\n",
            "  1 1 0 1 0 1 3 2 0 1 4 1 0 1 2 1 1]]\n"
          ],
          "name": "stdout"
        }
      ]
    },
    {
      "cell_type": "code",
      "metadata": {
        "id": "jU2jOxLM0MRA",
        "colab_type": "code",
        "outputId": "62636083-7598-403b-81be-a1296febd37e",
        "colab": {
          "base_uri": "https://localhost:8080/",
          "height": 74
        }
      },
      "source": [
        "vocabulary = vectorizer.get_feature_names()\n",
        "print(vocabulary)\n",
        "print(len(vocabulary))"
      ],
      "execution_count": 0,
      "outputs": [
        {
          "output_type": "stream",
          "text": [
            "[' ', ' d', ' f', ' i', ' o', ' s', ' t', '.', '?', 'a', 'an', 'c', 'co', 'cu', 'd', 'd ', 'do', 'e', 'e ', 'e.', 'ec', 'en', 'f', 'fi', 'h', 'he', 'hi', 'i', 'ir', 'is', 'm', 'me', 'n', 'nd', 'ne', 'nt', 'o', 'oc', 'on', 'r', 'rd', 'rs', 's', 's ', 'se', 'st', 't', 't ', 't.', 't?', 'th', 'u', 'um']\n",
            "53\n"
          ],
          "name": "stdout"
        }
      ]
    },
    {
      "cell_type": "code",
      "metadata": {
        "id": "Y6DcljHV0MVU",
        "colab_type": "code",
        "colab": {}
      },
      "source": [
        ""
      ],
      "execution_count": 0,
      "outputs": []
    },
    {
      "cell_type": "markdown",
      "metadata": {
        "id": "ucnA7aiA49-G",
        "colab_type": "text"
      },
      "source": [
        "# word2vec"
      ]
    },
    {
      "cell_type": "code",
      "metadata": {
        "id": "p7dmez7bssDh",
        "colab_type": "code",
        "colab": {}
      },
      "source": [
        "from gensim.models import Word2Vec\n",
        "from nltk.tokenize import word_tokenize"
      ],
      "execution_count": 0,
      "outputs": []
    },
    {
      "cell_type": "code",
      "metadata": {
        "id": "SH-JpYSq5bB_",
        "colab_type": "code",
        "colab": {}
      },
      "source": [
        "data = 'This is the first document. This is the second second document. And the third one. Is this the first document?'"
      ],
      "execution_count": 0,
      "outputs": []
    },
    {
      "cell_type": "code",
      "metadata": {
        "id": "mUwYnRIC5fNP",
        "colab_type": "code",
        "colab": {}
      },
      "source": [
        "tokenized_data = []\n",
        "for d in data:\n",
        "    tokenized_data.append(word_tokenize(data))"
      ],
      "execution_count": 0,
      "outputs": []
    },
    {
      "cell_type": "code",
      "metadata": {
        "id": "lBezewD4Nl6M",
        "colab_type": "code",
        "colab": {}
      },
      "source": [
        "model = Word2Vec(tokenized_data, size=5, window=5, min_count=1, workers=4)"
      ],
      "execution_count": 0,
      "outputs": []
    },
    {
      "cell_type": "code",
      "metadata": {
        "id": "Tae_nDYQNq7k",
        "colab_type": "code",
        "outputId": "1f38dd4a-f53e-4175-fd56-d7de0ad39d41",
        "colab": {
          "base_uri": "https://localhost:8080/",
          "height": 254
        }
      },
      "source": [
        "model.wv.vocab"
      ],
      "execution_count": 0,
      "outputs": [
        {
          "output_type": "execute_result",
          "data": {
            "text/plain": [
              "{'.': <gensim.models.keyedvectors.Vocab at 0x7f3359f6a828>,\n",
              " '?': <gensim.models.keyedvectors.Vocab at 0x7f3359f6a9b0>,\n",
              " 'And': <gensim.models.keyedvectors.Vocab at 0x7f3359f6a898>,\n",
              " 'Is': <gensim.models.keyedvectors.Vocab at 0x7f3359f6a940>,\n",
              " 'This': <gensim.models.keyedvectors.Vocab at 0x7f3359f6a6d8>,\n",
              " 'document': <gensim.models.keyedvectors.Vocab at 0x7f3359f6a710>,\n",
              " 'first': <gensim.models.keyedvectors.Vocab at 0x7f3359f6a780>,\n",
              " 'is': <gensim.models.keyedvectors.Vocab at 0x7f3359f6a7b8>,\n",
              " 'one': <gensim.models.keyedvectors.Vocab at 0x7f3359f6a908>,\n",
              " 'second': <gensim.models.keyedvectors.Vocab at 0x7f3359f6a860>,\n",
              " 'the': <gensim.models.keyedvectors.Vocab at 0x7f3359f6a748>,\n",
              " 'third': <gensim.models.keyedvectors.Vocab at 0x7f3359f6a8d0>,\n",
              " 'this': <gensim.models.keyedvectors.Vocab at 0x7f3359f6a978>}"
            ]
          },
          "metadata": {
            "tags": []
          },
          "execution_count": 63
        }
      ]
    },
    {
      "cell_type": "code",
      "metadata": {
        "id": "o5rIqoDkN6NO",
        "colab_type": "code",
        "outputId": "4f2a6b25-1026-47f5-8912-ff359e02ee7d",
        "colab": {
          "base_uri": "https://localhost:8080/",
          "height": 54
        }
      },
      "source": [
        "model.wv[\"This\"]"
      ],
      "execution_count": 0,
      "outputs": [
        {
          "output_type": "execute_result",
          "data": {
            "text/plain": [
              "array([ 0.4664309 ,  0.61515117, -0.16935559,  0.87751323, -0.54263115],\n",
              "      dtype=float32)"
            ]
          },
          "metadata": {
            "tags": []
          },
          "execution_count": 64
        }
      ]
    },
    {
      "cell_type": "code",
      "metadata": {
        "id": "D-2AXrnYN4gV",
        "colab_type": "code",
        "outputId": "ff3f7aff-737a-4803-c57e-e56015cabf6c",
        "colab": {
          "base_uri": "https://localhost:8080/",
          "height": 340
        }
      },
      "source": [
        "model.wv[\"this is\"]\n",
        "#model.infer_vector([\"this is\"])"
      ],
      "execution_count": 0,
      "outputs": [
        {
          "output_type": "error",
          "ename": "KeyError",
          "evalue": "ignored",
          "traceback": [
            "\u001b[0;31m---------------------------------------------------------------------------\u001b[0m",
            "\u001b[0;31mKeyError\u001b[0m                                  Traceback (most recent call last)",
            "\u001b[0;32m<ipython-input-65-b6b500eede34>\u001b[0m in \u001b[0;36m<module>\u001b[0;34m()\u001b[0m\n\u001b[0;32m----> 1\u001b[0;31m \u001b[0mmodel\u001b[0m\u001b[0;34m.\u001b[0m\u001b[0mwv\u001b[0m\u001b[0;34m[\u001b[0m\u001b[0;34m\"this is\"\u001b[0m\u001b[0;34m]\u001b[0m\u001b[0;34m\u001b[0m\u001b[0;34m\u001b[0m\u001b[0m\n\u001b[0m\u001b[1;32m      2\u001b[0m \u001b[0;31m#model.infer_vector([\"this is\"])\u001b[0m\u001b[0;34m\u001b[0m\u001b[0;34m\u001b[0m\u001b[0;34m\u001b[0m\u001b[0m\n",
            "\u001b[0;32m/usr/local/lib/python3.6/dist-packages/gensim/models/keyedvectors.py\u001b[0m in \u001b[0;36m__getitem__\u001b[0;34m(self, entities)\u001b[0m\n\u001b[1;32m    335\u001b[0m         \u001b[0;32mif\u001b[0m \u001b[0misinstance\u001b[0m\u001b[0;34m(\u001b[0m\u001b[0mentities\u001b[0m\u001b[0;34m,\u001b[0m \u001b[0mstring_types\u001b[0m\u001b[0;34m)\u001b[0m\u001b[0;34m:\u001b[0m\u001b[0;34m\u001b[0m\u001b[0;34m\u001b[0m\u001b[0m\n\u001b[1;32m    336\u001b[0m             \u001b[0;31m# allow calls like trained_model['office'], as a shorthand for trained_model[['office']]\u001b[0m\u001b[0;34m\u001b[0m\u001b[0;34m\u001b[0m\u001b[0;34m\u001b[0m\u001b[0m\n\u001b[0;32m--> 337\u001b[0;31m             \u001b[0;32mreturn\u001b[0m \u001b[0mself\u001b[0m\u001b[0;34m.\u001b[0m\u001b[0mget_vector\u001b[0m\u001b[0;34m(\u001b[0m\u001b[0mentities\u001b[0m\u001b[0;34m)\u001b[0m\u001b[0;34m\u001b[0m\u001b[0;34m\u001b[0m\u001b[0m\n\u001b[0m\u001b[1;32m    338\u001b[0m \u001b[0;34m\u001b[0m\u001b[0m\n\u001b[1;32m    339\u001b[0m         \u001b[0;32mreturn\u001b[0m \u001b[0mvstack\u001b[0m\u001b[0;34m(\u001b[0m\u001b[0;34m[\u001b[0m\u001b[0mself\u001b[0m\u001b[0;34m.\u001b[0m\u001b[0mget_vector\u001b[0m\u001b[0;34m(\u001b[0m\u001b[0mentity\u001b[0m\u001b[0;34m)\u001b[0m \u001b[0;32mfor\u001b[0m \u001b[0mentity\u001b[0m \u001b[0;32min\u001b[0m \u001b[0mentities\u001b[0m\u001b[0;34m]\u001b[0m\u001b[0;34m)\u001b[0m\u001b[0;34m\u001b[0m\u001b[0;34m\u001b[0m\u001b[0m\n",
            "\u001b[0;32m/usr/local/lib/python3.6/dist-packages/gensim/models/keyedvectors.py\u001b[0m in \u001b[0;36mget_vector\u001b[0;34m(self, word)\u001b[0m\n\u001b[1;32m    453\u001b[0m \u001b[0;34m\u001b[0m\u001b[0m\n\u001b[1;32m    454\u001b[0m     \u001b[0;32mdef\u001b[0m \u001b[0mget_vector\u001b[0m\u001b[0;34m(\u001b[0m\u001b[0mself\u001b[0m\u001b[0;34m,\u001b[0m \u001b[0mword\u001b[0m\u001b[0;34m)\u001b[0m\u001b[0;34m:\u001b[0m\u001b[0;34m\u001b[0m\u001b[0;34m\u001b[0m\u001b[0m\n\u001b[0;32m--> 455\u001b[0;31m         \u001b[0;32mreturn\u001b[0m \u001b[0mself\u001b[0m\u001b[0;34m.\u001b[0m\u001b[0mword_vec\u001b[0m\u001b[0;34m(\u001b[0m\u001b[0mword\u001b[0m\u001b[0;34m)\u001b[0m\u001b[0;34m\u001b[0m\u001b[0;34m\u001b[0m\u001b[0m\n\u001b[0m\u001b[1;32m    456\u001b[0m \u001b[0;34m\u001b[0m\u001b[0m\n\u001b[1;32m    457\u001b[0m     \u001b[0;32mdef\u001b[0m \u001b[0mwords_closer_than\u001b[0m\u001b[0;34m(\u001b[0m\u001b[0mself\u001b[0m\u001b[0;34m,\u001b[0m \u001b[0mw1\u001b[0m\u001b[0;34m,\u001b[0m \u001b[0mw2\u001b[0m\u001b[0;34m)\u001b[0m\u001b[0;34m:\u001b[0m\u001b[0;34m\u001b[0m\u001b[0;34m\u001b[0m\u001b[0m\n",
            "\u001b[0;32m/usr/local/lib/python3.6/dist-packages/gensim/models/keyedvectors.py\u001b[0m in \u001b[0;36mword_vec\u001b[0;34m(self, word, use_norm)\u001b[0m\n\u001b[1;32m    450\u001b[0m             \u001b[0;32mreturn\u001b[0m \u001b[0mresult\u001b[0m\u001b[0;34m\u001b[0m\u001b[0;34m\u001b[0m\u001b[0m\n\u001b[1;32m    451\u001b[0m         \u001b[0;32melse\u001b[0m\u001b[0;34m:\u001b[0m\u001b[0;34m\u001b[0m\u001b[0;34m\u001b[0m\u001b[0m\n\u001b[0;32m--> 452\u001b[0;31m             \u001b[0;32mraise\u001b[0m \u001b[0mKeyError\u001b[0m\u001b[0;34m(\u001b[0m\u001b[0;34m\"word '%s' not in vocabulary\"\u001b[0m \u001b[0;34m%\u001b[0m \u001b[0mword\u001b[0m\u001b[0;34m)\u001b[0m\u001b[0;34m\u001b[0m\u001b[0;34m\u001b[0m\u001b[0m\n\u001b[0m\u001b[1;32m    453\u001b[0m \u001b[0;34m\u001b[0m\u001b[0m\n\u001b[1;32m    454\u001b[0m     \u001b[0;32mdef\u001b[0m \u001b[0mget_vector\u001b[0m\u001b[0;34m(\u001b[0m\u001b[0mself\u001b[0m\u001b[0;34m,\u001b[0m \u001b[0mword\u001b[0m\u001b[0;34m)\u001b[0m\u001b[0;34m:\u001b[0m\u001b[0;34m\u001b[0m\u001b[0;34m\u001b[0m\u001b[0m\n",
            "\u001b[0;31mKeyError\u001b[0m: \"word 'this is' not in vocabulary\""
          ]
        }
      ]
    },
    {
      "cell_type": "code",
      "metadata": {
        "id": "plUVT8GnN88Y",
        "colab_type": "code",
        "outputId": "606a7244-4ecf-4f88-de04-2d68d5a9937b",
        "colab": {
          "base_uri": "https://localhost:8080/",
          "height": 322
        }
      },
      "source": [
        "model.wv[\"Th\"]"
      ],
      "execution_count": 0,
      "outputs": [
        {
          "output_type": "error",
          "ename": "KeyError",
          "evalue": "ignored",
          "traceback": [
            "\u001b[0;31m---------------------------------------------------------------------------\u001b[0m",
            "\u001b[0;31mKeyError\u001b[0m                                  Traceback (most recent call last)",
            "\u001b[0;32m<ipython-input-66-ef318e2bf15c>\u001b[0m in \u001b[0;36m<module>\u001b[0;34m()\u001b[0m\n\u001b[0;32m----> 1\u001b[0;31m \u001b[0mmodel\u001b[0m\u001b[0;34m.\u001b[0m\u001b[0mwv\u001b[0m\u001b[0;34m[\u001b[0m\u001b[0;34m\"Th\"\u001b[0m\u001b[0;34m]\u001b[0m\u001b[0;34m\u001b[0m\u001b[0;34m\u001b[0m\u001b[0m\n\u001b[0m",
            "\u001b[0;32m/usr/local/lib/python3.6/dist-packages/gensim/models/keyedvectors.py\u001b[0m in \u001b[0;36m__getitem__\u001b[0;34m(self, entities)\u001b[0m\n\u001b[1;32m    335\u001b[0m         \u001b[0;32mif\u001b[0m \u001b[0misinstance\u001b[0m\u001b[0;34m(\u001b[0m\u001b[0mentities\u001b[0m\u001b[0;34m,\u001b[0m \u001b[0mstring_types\u001b[0m\u001b[0;34m)\u001b[0m\u001b[0;34m:\u001b[0m\u001b[0;34m\u001b[0m\u001b[0;34m\u001b[0m\u001b[0m\n\u001b[1;32m    336\u001b[0m             \u001b[0;31m# allow calls like trained_model['office'], as a shorthand for trained_model[['office']]\u001b[0m\u001b[0;34m\u001b[0m\u001b[0;34m\u001b[0m\u001b[0;34m\u001b[0m\u001b[0m\n\u001b[0;32m--> 337\u001b[0;31m             \u001b[0;32mreturn\u001b[0m \u001b[0mself\u001b[0m\u001b[0;34m.\u001b[0m\u001b[0mget_vector\u001b[0m\u001b[0;34m(\u001b[0m\u001b[0mentities\u001b[0m\u001b[0;34m)\u001b[0m\u001b[0;34m\u001b[0m\u001b[0;34m\u001b[0m\u001b[0m\n\u001b[0m\u001b[1;32m    338\u001b[0m \u001b[0;34m\u001b[0m\u001b[0m\n\u001b[1;32m    339\u001b[0m         \u001b[0;32mreturn\u001b[0m \u001b[0mvstack\u001b[0m\u001b[0;34m(\u001b[0m\u001b[0;34m[\u001b[0m\u001b[0mself\u001b[0m\u001b[0;34m.\u001b[0m\u001b[0mget_vector\u001b[0m\u001b[0;34m(\u001b[0m\u001b[0mentity\u001b[0m\u001b[0;34m)\u001b[0m \u001b[0;32mfor\u001b[0m \u001b[0mentity\u001b[0m \u001b[0;32min\u001b[0m \u001b[0mentities\u001b[0m\u001b[0;34m]\u001b[0m\u001b[0;34m)\u001b[0m\u001b[0;34m\u001b[0m\u001b[0;34m\u001b[0m\u001b[0m\n",
            "\u001b[0;32m/usr/local/lib/python3.6/dist-packages/gensim/models/keyedvectors.py\u001b[0m in \u001b[0;36mget_vector\u001b[0;34m(self, word)\u001b[0m\n\u001b[1;32m    453\u001b[0m \u001b[0;34m\u001b[0m\u001b[0m\n\u001b[1;32m    454\u001b[0m     \u001b[0;32mdef\u001b[0m \u001b[0mget_vector\u001b[0m\u001b[0;34m(\u001b[0m\u001b[0mself\u001b[0m\u001b[0;34m,\u001b[0m \u001b[0mword\u001b[0m\u001b[0;34m)\u001b[0m\u001b[0;34m:\u001b[0m\u001b[0;34m\u001b[0m\u001b[0;34m\u001b[0m\u001b[0m\n\u001b[0;32m--> 455\u001b[0;31m         \u001b[0;32mreturn\u001b[0m \u001b[0mself\u001b[0m\u001b[0;34m.\u001b[0m\u001b[0mword_vec\u001b[0m\u001b[0;34m(\u001b[0m\u001b[0mword\u001b[0m\u001b[0;34m)\u001b[0m\u001b[0;34m\u001b[0m\u001b[0;34m\u001b[0m\u001b[0m\n\u001b[0m\u001b[1;32m    456\u001b[0m \u001b[0;34m\u001b[0m\u001b[0m\n\u001b[1;32m    457\u001b[0m     \u001b[0;32mdef\u001b[0m \u001b[0mwords_closer_than\u001b[0m\u001b[0;34m(\u001b[0m\u001b[0mself\u001b[0m\u001b[0;34m,\u001b[0m \u001b[0mw1\u001b[0m\u001b[0;34m,\u001b[0m \u001b[0mw2\u001b[0m\u001b[0;34m)\u001b[0m\u001b[0;34m:\u001b[0m\u001b[0;34m\u001b[0m\u001b[0;34m\u001b[0m\u001b[0m\n",
            "\u001b[0;32m/usr/local/lib/python3.6/dist-packages/gensim/models/keyedvectors.py\u001b[0m in \u001b[0;36mword_vec\u001b[0;34m(self, word, use_norm)\u001b[0m\n\u001b[1;32m    450\u001b[0m             \u001b[0;32mreturn\u001b[0m \u001b[0mresult\u001b[0m\u001b[0;34m\u001b[0m\u001b[0;34m\u001b[0m\u001b[0m\n\u001b[1;32m    451\u001b[0m         \u001b[0;32melse\u001b[0m\u001b[0;34m:\u001b[0m\u001b[0;34m\u001b[0m\u001b[0;34m\u001b[0m\u001b[0m\n\u001b[0;32m--> 452\u001b[0;31m             \u001b[0;32mraise\u001b[0m \u001b[0mKeyError\u001b[0m\u001b[0;34m(\u001b[0m\u001b[0;34m\"word '%s' not in vocabulary\"\u001b[0m \u001b[0;34m%\u001b[0m \u001b[0mword\u001b[0m\u001b[0;34m)\u001b[0m\u001b[0;34m\u001b[0m\u001b[0;34m\u001b[0m\u001b[0m\n\u001b[0m\u001b[1;32m    453\u001b[0m \u001b[0;34m\u001b[0m\u001b[0m\n\u001b[1;32m    454\u001b[0m     \u001b[0;32mdef\u001b[0m \u001b[0mget_vector\u001b[0m\u001b[0;34m(\u001b[0m\u001b[0mself\u001b[0m\u001b[0;34m,\u001b[0m \u001b[0mword\u001b[0m\u001b[0;34m)\u001b[0m\u001b[0;34m:\u001b[0m\u001b[0;34m\u001b[0m\u001b[0;34m\u001b[0m\u001b[0m\n",
            "\u001b[0;31mKeyError\u001b[0m: \"word 'Th' not in vocabulary\""
          ]
        }
      ]
    },
    {
      "cell_type": "markdown",
      "metadata": {
        "id": "CSXYZ4MmOs2H",
        "colab_type": "text"
      },
      "source": [
        "# Fasttext"
      ]
    },
    {
      "cell_type": "code",
      "metadata": {
        "id": "VwlRfwneOvvD",
        "colab_type": "code",
        "colab": {}
      },
      "source": [
        "from gensim.models import FastText"
      ],
      "execution_count": 0,
      "outputs": []
    },
    {
      "cell_type": "code",
      "metadata": {
        "id": "oHMMdMBzOwAH",
        "colab_type": "code",
        "colab": {}
      },
      "source": [
        "model = FastText(size=4, window=3, min_count=1) \n",
        "model.build_vocab(sentences=tokenized_data)\n",
        "model.train(sentences=tokenized_data, total_examples=len(tokenized_data), epochs=10)"
      ],
      "execution_count": 0,
      "outputs": []
    },
    {
      "cell_type": "code",
      "metadata": {
        "id": "uhKaVIzgOwC0",
        "colab_type": "code",
        "outputId": "45565b4e-a0df-4c1d-eac6-9fd2e7fa6456",
        "colab": {
          "base_uri": "https://localhost:8080/",
          "height": 35
        }
      },
      "source": [
        "model.wv[\"This\"]"
      ],
      "execution_count": 0,
      "outputs": [
        {
          "output_type": "execute_result",
          "data": {
            "text/plain": [
              "array([-0.09336837,  1.106698  , -0.9921883 ,  0.3000509 ], dtype=float32)"
            ]
          },
          "metadata": {
            "tags": []
          },
          "execution_count": 38
        }
      ]
    },
    {
      "cell_type": "code",
      "metadata": {
        "id": "cCbCcGqAPBSw",
        "colab_type": "code",
        "outputId": "5a56fc30-5e1a-453b-9649-8aa4cd4452fd",
        "colab": {
          "base_uri": "https://localhost:8080/",
          "height": 35
        }
      },
      "source": [
        "model.wv[\"This is\"]"
      ],
      "execution_count": 0,
      "outputs": [
        {
          "output_type": "execute_result",
          "data": {
            "text/plain": [
              "array([-0.11472034,  1.1140894 , -0.97730035,  0.22226869], dtype=float32)"
            ]
          },
          "metadata": {
            "tags": []
          },
          "execution_count": 39
        }
      ]
    },
    {
      "cell_type": "code",
      "metadata": {
        "id": "VO8uioFlPFug",
        "colab_type": "code",
        "outputId": "6a45eb83-afb2-4184-b062-fe631dc3b4df",
        "colab": {
          "base_uri": "https://localhost:8080/",
          "height": 35
        }
      },
      "source": [
        "model.wv[\"Th\"]"
      ],
      "execution_count": 0,
      "outputs": [
        {
          "output_type": "execute_result",
          "data": {
            "text/plain": [
              "array([-0.1979229 ,  0.7348152 , -0.7987169 ,  0.00813393], dtype=float32)"
            ]
          },
          "metadata": {
            "tags": []
          },
          "execution_count": 40
        }
      ]
    },
    {
      "cell_type": "markdown",
      "metadata": {
        "id": "7JUAiuYU7mrW",
        "colab_type": "text"
      },
      "source": [
        "# Doc2vec"
      ]
    },
    {
      "cell_type": "code",
      "metadata": {
        "id": "hPMqKe3hCw_q",
        "colab_type": "code",
        "outputId": "026a8c6c-8e1a-4d8f-96ef-26cb07d0201f",
        "colab": {
          "base_uri": "https://localhost:8080/",
          "height": 72
        }
      },
      "source": [
        "\n",
        "from gensim.models.doc2vec import Doc2Vec, TaggedDocument\n",
        "from nltk.tokenize import word_tokenize\n",
        "import nltk\n",
        "nltk.download('punkt')"
      ],
      "execution_count": 0,
      "outputs": [
        {
          "output_type": "stream",
          "text": [
            "[nltk_data] Downloading package punkt to /root/nltk_data...\n",
            "[nltk_data]   Unzipping tokenizers/punkt.zip.\n"
          ],
          "name": "stdout"
        },
        {
          "output_type": "execute_result",
          "data": {
            "text/plain": [
              "True"
            ]
          },
          "metadata": {
            "tags": []
          },
          "execution_count": 6
        }
      ]
    },
    {
      "cell_type": "code",
      "metadata": {
        "id": "HF9NZU7bErTe",
        "colab_type": "code",
        "colab": {}
      },
      "source": [
        "data = ['This is the first document.',' This is the second second document.','And the third one.',' Is this the first document?']"
      ],
      "execution_count": 0,
      "outputs": []
    },
    {
      "cell_type": "code",
      "metadata": {
        "id": "LCX3QCMDDIkI",
        "colab_type": "code",
        "colab": {}
      },
      "source": [
        "corpus = []\n",
        "for i in range(len(data)):\n",
        "    corpus.append(word_tokenize(data[i]))"
      ],
      "execution_count": 0,
      "outputs": []
    },
    {
      "cell_type": "code",
      "metadata": {
        "id": "LbdBgbpeDLTF",
        "colab_type": "code",
        "outputId": "1086f07b-e5de-467a-a883-47731a67fa02",
        "colab": {
          "base_uri": "https://localhost:8080/",
          "height": 90
        }
      },
      "source": [
        "corpus"
      ],
      "execution_count": 0,
      "outputs": [
        {
          "output_type": "execute_result",
          "data": {
            "text/plain": [
              "[['This', 'is', 'the', 'first', 'document', '.'],\n",
              " ['This', 'is', 'the', 'second', 'second', 'document', '.'],\n",
              " ['And', 'the', 'third', 'one', '.'],\n",
              " ['Is', 'this', 'the', 'first', 'document', '?']]"
            ]
          },
          "metadata": {
            "tags": []
          },
          "execution_count": 9
        }
      ]
    },
    {
      "cell_type": "code",
      "metadata": {
        "id": "lCGm4uf_7pdq",
        "colab_type": "code",
        "colab": {}
      },
      "source": [
        "documents = [TaggedDocument(doc, [i]) for i, doc in enumerate(corpus)]\n",
        "model = Doc2Vec(documents, vector_size=5, window=2, min_count=1, workers=4)"
      ],
      "execution_count": 0,
      "outputs": []
    },
    {
      "cell_type": "code",
      "metadata": {
        "id": "USM2CP2tNGLW",
        "colab_type": "code",
        "outputId": "6eb08835-78cb-41f0-bd15-505aba7a9475",
        "colab": {
          "base_uri": "https://localhost:8080/",
          "height": 54
        }
      },
      "source": [
        "model.infer_vector([\"this is\"])"
      ],
      "execution_count": 0,
      "outputs": [
        {
          "output_type": "execute_result",
          "data": {
            "text/plain": [
              "array([0.0348769 , 0.07072723, 0.08233352, 0.0162783 , 0.04638267],\n",
              "      dtype=float32)"
            ]
          },
          "metadata": {
            "tags": []
          },
          "execution_count": 13
        }
      ]
    },
    {
      "cell_type": "code",
      "metadata": {
        "id": "3pp8uX6ONN02",
        "colab_type": "code",
        "outputId": "138ad59f-95ca-4922-b5ef-633253b5a833",
        "colab": {
          "base_uri": "https://localhost:8080/",
          "height": 54
        }
      },
      "source": [
        "model.infer_vector([\"this\"])"
      ],
      "execution_count": 0,
      "outputs": [
        {
          "output_type": "execute_result",
          "data": {
            "text/plain": [
              "array([-0.06487391, -0.03116014,  0.09166626,  0.05343613,  0.06687652],\n",
              "      dtype=float32)"
            ]
          },
          "metadata": {
            "tags": []
          },
          "execution_count": 14
        }
      ]
    },
    {
      "cell_type": "code",
      "metadata": {
        "id": "JpG-gktmNQDN",
        "colab_type": "code",
        "outputId": "e7158a49-b73f-429a-d719-ac60d3994f11",
        "colab": {
          "base_uri": "https://localhost:8080/",
          "height": 254
        }
      },
      "source": [
        "model.wv.vocab"
      ],
      "execution_count": 0,
      "outputs": [
        {
          "output_type": "execute_result",
          "data": {
            "text/plain": [
              "{'.': <gensim.models.keyedvectors.Vocab at 0x7f335c5edd68>,\n",
              " '?': <gensim.models.keyedvectors.Vocab at 0x7f335c5edef0>,\n",
              " 'And': <gensim.models.keyedvectors.Vocab at 0x7f335c5eddd8>,\n",
              " 'Is': <gensim.models.keyedvectors.Vocab at 0x7f335c5ede80>,\n",
              " 'This': <gensim.models.keyedvectors.Vocab at 0x7f335c5edc50>,\n",
              " 'document': <gensim.models.keyedvectors.Vocab at 0x7f335c5edd30>,\n",
              " 'first': <gensim.models.keyedvectors.Vocab at 0x7f335c5edcf8>,\n",
              " 'is': <gensim.models.keyedvectors.Vocab at 0x7f335c5edc88>,\n",
              " 'one': <gensim.models.keyedvectors.Vocab at 0x7f335c5ede48>,\n",
              " 'second': <gensim.models.keyedvectors.Vocab at 0x7f335c5edda0>,\n",
              " 'the': <gensim.models.keyedvectors.Vocab at 0x7f335c5edcc0>,\n",
              " 'third': <gensim.models.keyedvectors.Vocab at 0x7f335c5ede10>,\n",
              " 'this': <gensim.models.keyedvectors.Vocab at 0x7f335c5edeb8>}"
            ]
          },
          "metadata": {
            "tags": []
          },
          "execution_count": 15
        }
      ]
    }
  ]
}